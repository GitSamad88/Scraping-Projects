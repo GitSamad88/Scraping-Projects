{
 "cells": [
  {
   "cell_type": "code",
   "execution_count": 1,
   "id": "8bbbaaeb",
   "metadata": {},
   "outputs": [],
   "source": [
    "#!pip install undetected_chromedriver \n",
    "#!pip install pyautogui\n",
    "#!pip install .......\n",
    "#!pip install imdby\n",
    "#!pip install vaderSentiment\n",
    "#!pip install chromedriver-binary\n",
    "#!pip install textblob\n",
    "#!pip install pandas\n",
    "#!pip install setuptools\n",
    "#!pip install twine\n",
    "#!pip install unidecode\n",
    "#!pip install IMDbPY\n",
    "#!pip install  m3u8_To_MP4"
   ]
  },
  {
   "cell_type": "markdown",
   "id": "cb0567a6",
   "metadata": {},
   "source": [
    "## Import needed libreries"
   ]
  },
  {
   "cell_type": "code",
   "execution_count": 13,
   "id": "746f0164",
   "metadata": {},
   "outputs": [],
   "source": [
    "from selenium import webdriver\n",
    "import undetected_chromedriver as uc\n",
    "from time import sleep\n",
    "from selenium.webdriver.common.by import By\n",
    "from selenium.webdriver.support.ui import WebDriverWait\n",
    "from selenium.webdriver.support import expected_conditions as EC\n",
    "from selenium.common.exceptions import NoSuchElementException\n",
    "from selenium.common.exceptions import TimeoutException\n",
    "\n",
    "from webdriver_manager.chrome import ChromeDriverManager\n",
    "from bs4 import BeautifulSoup\n",
    "import pyautogui\n",
    "from selenium.webdriver.common.action_chains import ActionChains\n",
    "from selenium.webdriver.chrome.options import Options\n",
    "import imdb\n",
    "from imdb import IMDb\n",
    "import m3u8_To_MP4\n",
    "\n"
   ]
  },
  {
   "cell_type": "markdown",
   "id": "a8918294",
   "metadata": {},
   "source": [
    "## step1: Extracting movie url."
   ]
  },
  {
   "cell_type": "code",
   "execution_count": 2,
   "id": "6de47ad8",
   "metadata": {},
   "outputs": [
    {
     "name": "stdout",
     "output_type": "stream",
     "text": [
      "https://french-stream.gg/film/15114369-85-south-ghetto-legends.html\n",
      "85 South: Ghetto Legends\n",
      "https://french-stream.gg/film/15113067-dragon-ball-super-super-hero.html\n",
      "Dragon Ball Super: Super Hero\n",
      "https://french-stream.gg/film/15114368-infiltration.html\n",
      "Infiltration\n",
      "https://french-stream.gg/film/15114367-un-couple.html\n",
      "Un Couple\n",
      "https://french-stream.gg/film/15114365-take-care-of-maya-quand-lhpital-fait-mal.html\n",
      "Take Care Of Maya : Quand l'hôpital Fait Mal\n",
      "https://french-stream.gg/film/15114352-un-homme-heureux.html\n",
      "Un Homme Heureux\n",
      "https://french-stream.gg/film/15114351-the-covenant.html\n",
      "The Covenant\n",
      "https://french-stream.gg/film/15112887-emily.html\n",
      "Emily\n",
      "https://french-stream.gg/film/15114341-tyler-rake-2.html\n",
      "Tyler Rake 2\n",
      "https://french-stream.gg/film/15114347-chevalier.html\n",
      "Chevalier\n",
      "https://french-stream.gg/film/15114343-kandahar.html\n",
      "Kandahar\n",
      "https://french-stream.gg/film/15114344-lastronaute.html\n",
      "L'Astronaute\n",
      "https://french-stream.gg/film/15114358-la-traque.html\n",
      "La Traque\n",
      "https://french-stream.gg/film/15114342-mon-pre-et-moi.html\n",
      "Mon Père et Moi\n",
      "https://french-stream.gg/film/15114346-black-clover-lpe-de-lempereur-mage.html\n",
      "Black Clover: L'Épée de l'Empereur-Mage\n",
      "https://french-stream.gg/film/15114349-the-village.html\n",
      "The Village\n",
      "https://french-stream.gg/film/15114350-le-nid-du-tigre.html\n",
      "Le Nid du Tigre\n",
      "https://french-stream.gg/film/15114354-interdit-aux-chiens-et-aux-italiens.html\n",
      "Interdit aux chiens et aux Italiens\n"
     ]
    }
   ],
   "source": [
    "erorr_movie_range=[]\n",
    "cantget_list=[]\n",
    "\n",
    "titles=[]\n",
    "links=[]\n",
    "driver = uc.Chrome()\n",
    "pages=2\n",
    "\n",
    "\n",
    "def get_movie_link(driver):\n",
    "    title=driver.find_element(By.XPATH,f'//*[@id=\"dle-content\"]/div[{i}]/div/a/div[3]')\n",
    "    movie_title=title.text\n",
    "    link = driver.find_element(By.XPATH,f'//*[@id=\"dle-content\"]/div[{i}]/div/a')  \n",
    "    href = link.get_attribute(\"href\")\n",
    "    print(href)\n",
    "    links.append(href)\n",
    "    print(movie_title)\n",
    "    titles.append(movie_title)\n",
    "    return links\n",
    "\n",
    "\n",
    "for k in range(1,pages):\n",
    "    driver.get(f'https://french-stream.gg/film/page/{k}/')\n",
    "    sleep(40)\n",
    "    for i in range(1,19):\n",
    "        try:\n",
    "            WebDriverWait(driver, timeout=10).until(get_movie_link)\n",
    "        except:\n",
    "            erorr_movie_range.apend([i,k])\n",
    "            cantget_list.append(\"can't get the \",i,\"movie in the page\",k)\n",
    "            print(\"error!\")\n",
    "            continue \n",
    "\n",
    "\n",
    "            "
   ]
  },
  {
   "cell_type": "markdown",
   "id": "872fed55",
   "metadata": {},
   "source": [
    "## Step2: Extracting embed url."
   ]
  },
  {
   "cell_type": "code",
   "execution_count": 21,
   "id": "1009aba5",
   "metadata": {},
   "outputs": [
    {
     "name": "stdout",
     "output_type": "stream",
     "text": [
      "Ghost Therapy  :  https://vido.lol/embed-udy5vku2q7v3.html\n",
      "Un Homme Heureux  :  https://vido.lol/embed-r9eworrzm8cq.html\n",
      "The Covenant  :  https://vido.lol/embed-pzfxbtjelplp.html\n",
      "Emily  :  https://vido.lol/embed-0c81os958aca.html\n",
      "Tyler Rake 2  :  https://vido.lol/embed-dadxpdoguufz.html\n",
      "Chevalier  :  https://vido.lol/embed-x1qgly2wmb5u.html\n",
      "Kandahar  :  https://vido.lol/embed-xaz71xjnxbtu.html\n",
      "L'Astronaute  :  https://vido.lol/embed-b91i7ai6a1zd.html\n",
      "La Traque  :  https://vido.lol/embed-2q6ty39xstxe.html\n",
      "Mon Père et Moi  :  https://vido.lol/embed-snsxkcarcf0g.html\n",
      "Black Clover: L'Épée de l'Empereur-Mage  :  https://vido.lol/embed-nfcdyqfh8ns2.html\n",
      "The Village  :  https://vido.lol/embed-m54dr49u07h2.html\n",
      "Le Nid du Tigre  :  https://vido.lol/embed-9g653t993ksj.html\n",
      "Interdit aux chiens et aux Italiens  :  https://vido.lol/embed-zzonde665rev.html\n",
      "Demon Slayer : Le train de l'infini  :  https://vido.lol/embed-kvd8xmhqctl6.html\n",
      "Spinning Gold  :  https://vido.lol/embed-addc3jtp6g3l.html\n",
      "The Flash  :  https://vido.lol/embed-vaiz74xhfp4c.html\n",
      "Master Gardener  :  https://vido.lol/embed-l6djg7uaxkgd.html\n"
     ]
    }
   ],
   "source": [
    "embed_hrefs=[] \n",
    "erorr_hrefs=[]\n",
    "driver = uc.Chrome()\n",
    "def get_embed_href(driver):\n",
    "    em=driver.find_element(By.XPATH,'//*[@id=\"gGotop\"]')\n",
    "    embed_href = em.get_attribute(\"href\")\n",
    "    embed_hrefs.append(embed_href)\n",
    "    \n",
    "    print(movie_title,\" : \",embed_href)\n",
    "    return embed_hrefs\n",
    "\n",
    "for href,movie_title in zip(links,titles):\n",
    "    try:\n",
    "        driver.get(href)\n",
    "        sleep(10)\n",
    "        WebDriverWait(driver, timeout=10).until(get_embed_href)\n",
    "    except:\n",
    "        erorr_hrefs.append([movie_title,href])\n",
    "        print(\"error\")\n",
    "        print(movie_title,\" : \",href)\n",
    "        continue\n",
    "        \n"
   ]
  },
  {
   "cell_type": "code",
   "execution_count": 24,
   "id": "a00ab241",
   "metadata": {},
   "outputs": [
    {
     "data": {
      "text/plain": [
       "[['Ghost Therapy', 'https://vido.lol/embed-udy5vku2q7v3.html'],\n",
       " ['Un Homme Heureux', 'https://vido.lol/embed-r9eworrzm8cq.html'],\n",
       " ['The Covenant', 'https://vido.lol/embed-pzfxbtjelplp.html'],\n",
       " ['Emily', 'https://vido.lol/embed-0c81os958aca.html'],\n",
       " ['Tyler Rake 2', 'https://vido.lol/embed-dadxpdoguufz.html'],\n",
       " ['Chevalier', 'https://vido.lol/embed-x1qgly2wmb5u.html'],\n",
       " ['Kandahar', 'https://vido.lol/embed-xaz71xjnxbtu.html'],\n",
       " [\"L'Astronaute\", 'https://vido.lol/embed-b91i7ai6a1zd.html'],\n",
       " ['La Traque', 'https://vido.lol/embed-2q6ty39xstxe.html'],\n",
       " ['Mon Père et Moi', 'https://vido.lol/embed-snsxkcarcf0g.html'],\n",
       " [\"Black Clover: L'Épée de l'Empereur-Mage\",\n",
       "  'https://vido.lol/embed-nfcdyqfh8ns2.html'],\n",
       " ['The Village', 'https://vido.lol/embed-m54dr49u07h2.html'],\n",
       " ['Le Nid du Tigre', 'https://vido.lol/embed-9g653t993ksj.html'],\n",
       " ['Interdit aux chiens et aux Italiens',\n",
       "  'https://vido.lol/embed-zzonde665rev.html'],\n",
       " [\"Demon Slayer : Le train de l'infini\",\n",
       "  'https://vido.lol/embed-kvd8xmhqctl6.html'],\n",
       " ['Spinning Gold', 'https://vido.lol/embed-addc3jtp6g3l.html'],\n",
       " ['The Flash', 'https://vido.lol/embed-vaiz74xhfp4c.html'],\n",
       " ['Master Gardener', 'https://vido.lol/embed-l6djg7uaxkgd.html']]"
      ]
     },
     "execution_count": 24,
     "metadata": {},
     "output_type": "execute_result"
    }
   ],
   "source": [
    "embedlink_title=[]\n",
    "for href,title in zip(embed_hrefs,titles):\n",
    "    embedlink_title.append([title,href])\n",
    "    \n",
    "embedlink_title    \n",
    "#erorr_hrefs"
   ]
  },
  {
   "cell_type": "markdown",
   "id": "a2836b26",
   "metadata": {},
   "source": [
    "## Step3: Extracting m3u8 file link."
   ]
  },
  {
   "cell_type": "code",
   "execution_count": null,
   "id": "9ad7faf4",
   "metadata": {},
   "outputs": [],
   "source": [
    "m3u8_links=[]\n",
    "erorr_embed=[]\n",
    "\n",
    "#driver=webdriver.Chrome()\n",
    "\n",
    "def get_url(args):\n",
    "    network_logs = driver.execute_script(\"var performance = window.performance || window.mozPerformance || \"\n",
    "                                         \"window.msPerformance || window.webkitPerformance || {}; var network = \"\n",
    "                                         \"performance.getEntries() || {}; return network;\")\n",
    "    for network_log in network_logs:\n",
    "        name = network_log.get(\"name\", \"\")\n",
    "        if \"index-v1-a1.m3u8\" in name:\n",
    "            return name\n",
    "    return False\n",
    "\n",
    "#def get_m3u8_link(driver):\n",
    "    \n",
    "\n",
    "\n",
    "for i,embed_href in enumerate(embedlink_title):\n",
    "    title=embed_href[0]\n",
    "    link=embed_href[1]\n",
    "    \n",
    "    try:\n",
    "        driver=webdriver.Chrome()\n",
    "        driver.get(link)\n",
    "        sleep(1)\n",
    "        driver.maximize_window()\n",
    "        click1 = driver.find_element(By.XPATH,'//*[@id=\"vplayer\"]/div/div[1]/div[2]/div')\n",
    "        driver.execute_script(\"arguments[0].click();\", click1)\n",
    "        sleep(2)\n",
    "        click2 = driver.find_element(By.XPATH,'//*[@id=\"vplayer\"]/div/div[1]')\n",
    "        driver.execute_script(\"arguments[0].click();\", click2)\n",
    "        sleep(2)\n",
    "        pyautogui.click(800,600)\n",
    "\n",
    "        sleep(3)\n",
    "\n",
    "        file_link = WebDriverWait(driver, 5).until(get_url)\n",
    "        m3u8_links.append([title,file_link])\n",
    "        \n",
    "        print(\"title:\",title)\n",
    "        print(i,\":\",embed_href)\n",
    "        print(\"file_link:\",file_link)\n",
    "        driver.quit()\n",
    "    except: \n",
    "        print(\"error!\")\n",
    "        erorr_embed.append([title,embed_href])\n",
    "        driver.quit()\n",
    "        continue\n"
   ]
  },
  {
   "cell_type": "code",
   "execution_count": null,
   "id": "49bf35ae",
   "metadata": {},
   "outputs": [],
   "source": []
  },
  {
   "cell_type": "code",
   "execution_count": 140,
   "id": "447e6761",
   "metadata": {},
   "outputs": [
    {
     "data": {
      "text/plain": [
       "[['Kandahar', ['Kandahar', 'https://vido.lol/embed-xaz71xjnxbtu.html']],\n",
       " [\"L'Astronaute\",\n",
       "  [\"L'Astronaute\", 'https://vido.lol/embed-b91i7ai6a1zd.html']],\n",
       " ['La Traque', ['La Traque', 'https://vido.lol/embed-2q6ty39xstxe.html']],\n",
       " ['Mon Père et Moi',\n",
       "  ['Mon Père et Moi', 'https://vido.lol/embed-snsxkcarcf0g.html']],\n",
       " [\"Black Clover: L'Épée de l'Empereur-Mage\",\n",
       "  [\"Black Clover: L'Épée de l'Empereur-Mage\",\n",
       "   'https://vido.lol/embed-nfcdyqfh8ns2.html']],\n",
       " ['Spinning Gold',\n",
       "  ['Spinning Gold', 'https://vido.lol/embed-addc3jtp6g3l.html']],\n",
       " ['The Flash', ['The Flash', 'https://vido.lol/embed-zb5omoyn6sxr.html']],\n",
       " ['Master Gardener',\n",
       "  ['Master Gardener', 'https://vido.lol/embed-l6djg7uaxkgd.html']]]"
      ]
     },
     "execution_count": 140,
     "metadata": {},
     "output_type": "execute_result"
    }
   ],
   "source": [
    " erorr_embed"
   ]
  },
  {
   "cell_type": "code",
   "execution_count": 22,
   "id": "d266b987",
   "metadata": {},
   "outputs": [],
   "source": [
    "m3u8_links=[['Un Homme Heureux',\n",
    "  'https://txdie.vido.cx/hls/wcbzba3bmkrz4fib4rpuk72ryjtl4wujlt3fkwamkr4kjlljqkxpol7gfuma/index-v1-a1.m3u8'],\n",
    " ['The Covenant',\n",
    "  'https://txdie.vido.cx/hls/wcbzbd3bmkrz4fib4rpuk7isyelaf6i4ep6ok4nh5hpckk377bzcyzd7gfra/index-v1-a1.m3u8'],\n",
    " ['Emily',\n",
    "  'https://txdie.vido.cx/hls/wcbzbg3bmkrz4fib4rpukpilt6qk2y2gqipai75ajqokeif3qqli4b5jyvkq/index-v1-a1.m3u8'],\n",
    " ['Tyler Rake 2',\n",
    "  'https://mjbxnkpi196478.vido.lol/hls/wcbzagtamkrz4fib4rpuk2ijyo4mynouatveer7jgimzepsogcssof3hftqa/index-v1-a1.m3u8'],\n",
    " ['Chevalier',\n",
    "  'https://mjbxnkpi6214578.vido.lol/hls/wcbzkjlamkrz4fib4rpuk5kz2z37ecb4popbpdd6gttzabfftigpuw4rwgba/index-v1-a1.m3u8'],\n",
    " ['The Village',\n",
    "  'https://mjbxnkpi6214578.vido.lol/hls/wcbzaj3amkrz4fib4rpukyc5spfk5nlsc4cxneg3xe2fvlcljtk7cmzqd4ha/index-v1-a1.m3u8'],\n",
    " ['Le Nid du Tigre',\n",
    "  'https://txdie.vido.cx/hls/wcbzbhtbmkrz4fib4rpuknapshfigqwbxb53b4iiv42mdq2sm7ofbnsbkcua/index-v1-a1.m3u8'],\n",
    " ['Interdit aux chiens et aux Italiens',\n",
    "  'https://txdie.vido.cx/hls/wcbzbitbmkrz4fib4rpuk5yszb5g4volxgy3qxfgko4vfsadypouy7ez43nq/index-v1-a1.m3u8'],\n",
    " [\"Demon Slayer : Le train de l'infini\",\n",
    "  'https://txdie.vido.cx/hls/wcbzaw3bmkrz4fib4rpukzq6yoyg7ixtjzgaeqeb3xiwciiveck3c7wrzgtq/index-v1-a1.m3u8'],\n",
    " ['Juste Ciel !',\n",
    "  'https://txdie.vido.cx/hls/wcbzjetamkrz4fib4rpukpi62wax44xvoadykglxr6se7mlk2kno3724s6za/index-v1-a1.m3u8']]"
   ]
  },
  {
   "cell_type": "markdown",
   "id": "7591f6d3",
   "metadata": {},
   "source": [
    "## Step4: Downloading the movie using *9xbuddy.com* and rename the file with his IMDb id."
   ]
  },
  {
   "cell_type": "code",
   "execution_count": 25,
   "id": "a81dc2ab",
   "metadata": {
    "scrolled": false
   },
   "outputs": [
    {
     "name": "stderr",
     "output_type": "stream",
     "text": [
      "The version of chrome cannot be detected. Trying with latest driver version\n"
     ]
    },
    {
     "name": "stdout",
     "output_type": "stream",
     "text": [
      "https://txdie.vido.cx/hls/wcbzba3bmkrz4fib4rpuk72ryjtl4wujlt3fkwamkr4kjlljqkxpol7gfuma/index-v1-a1.m3u8\n",
      "Un Homme Heureux\n",
      "movie:  Un homme heureux\n",
      "Message: \n",
      "Stacktrace:\n",
      "Backtrace:\n",
      "\tGetHandleVerifier [0x011BA813+48355]\n",
      "\t(No symbol) [0x0114C4B1]\n",
      "\t(No symbol) [0x01055358]\n",
      "\t(No symbol) [0x010809A5]\n",
      "\t(No symbol) [0x01080B3B]\n",
      "\t(No symbol) [0x010AE232]\n",
      "\t(No symbol) [0x0109A784]\n",
      "\t(No symbol) [0x010AC922]\n",
      "\t(No symbol) [0x0109A536]\n",
      "\t(No symbol) [0x010782DC]\n",
      "\t(No symbol) [0x010793DD]\n",
      "\tGetHandleVerifier [0x0141AABD+2539405]\n",
      "\tGetHandleVerifier [0x0145A78F+2800735]\n",
      "\tGetHandleVerifier [0x0145456C+2775612]\n",
      "\tGetHandleVerifier [0x012451E0+616112]\n",
      "\t(No symbol) [0x01155F8C]\n",
      "\t(No symbol) [0x01152328]\n",
      "\t(No symbol) [0x0115240B]\n",
      "\t(No symbol) [0x01144FF7]\n",
      "\tBaseThreadInitThunk [0x75430099+25]\n",
      "\tRtlGetAppContainerNamedObjectPath [0x77407B6E+286]\n",
      "\tRtlGetAppContainerNamedObjectPath [0x77407B3E+238]\n",
      "\n",
      "not downloaded!\n",
      "https://txdie.vido.cx/hls/wcbzbd3bmkrz4fib4rpuk7isyelaf6i4ep6ok4nh5hpckk377bzcyzd7gfra/index-v1-a1.m3u8\n",
      "The Covenant\n",
      "movie:  The Covenant\n",
      "your movie is downloading!\n",
      "https://txdie.vido.cx/hls/wcbzbg3bmkrz4fib4rpukpilt6qk2y2gqipai75ajqokeif3qqli4b5jyvkq/index-v1-a1.m3u8\n",
      "Emily\n",
      "movie:  Emily in Paris\n",
      "your movie is downloading!\n",
      "https://mjbxnkpi196478.vido.lol/hls/wcbzagtamkrz4fib4rpuk2ijyo4mynouatveer7jgimzepsogcssof3hftqa/index-v1-a1.m3u8\n",
      "Tyler Rake 2\n",
      "Message: \n",
      "Stacktrace:\n",
      "Backtrace:\n",
      "\tGetHandleVerifier [0x011BA813+48355]\n",
      "\t(No symbol) [0x0114C4B1]\n",
      "\t(No symbol) [0x01055358]\n",
      "\t(No symbol) [0x010809A5]\n",
      "\t(No symbol) [0x01080B3B]\n",
      "\t(No symbol) [0x010AE232]\n",
      "\t(No symbol) [0x0109A784]\n",
      "\t(No symbol) [0x010AC922]\n",
      "\t(No symbol) [0x0109A536]\n",
      "\t(No symbol) [0x010782DC]\n",
      "\t(No symbol) [0x010793DD]\n",
      "\tGetHandleVerifier [0x0141AABD+2539405]\n",
      "\tGetHandleVerifier [0x0145A78F+2800735]\n",
      "\tGetHandleVerifier [0x0145456C+2775612]\n",
      "\tGetHandleVerifier [0x012451E0+616112]\n",
      "\t(No symbol) [0x01155F8C]\n",
      "\t(No symbol) [0x01152328]\n",
      "\t(No symbol) [0x0115240B]\n",
      "\t(No symbol) [0x01144FF7]\n",
      "\tBaseThreadInitThunk [0x75430099+25]\n",
      "\tRtlGetAppContainerNamedObjectPath [0x77407B6E+286]\n",
      "\tRtlGetAppContainerNamedObjectPath [0x77407B3E+238]\n",
      "\n",
      "not downloaded!\n",
      "https://mjbxnkpi6214578.vido.lol/hls/wcbzkjlamkrz4fib4rpuk5kz2z37ecb4popbpdd6gttzabfftigpuw4rwgba/index-v1-a1.m3u8\n",
      "Chevalier\n",
      "movie:  Chevalier\n",
      "your movie is downloading!\n",
      "https://mjbxnkpi6214578.vido.lol/hls/wcbzaj3amkrz4fib4rpukyc5spfk5nlsc4cxneg3xe2fvlcljtk7cmzqd4ha/index-v1-a1.m3u8\n",
      "The Village\n",
      "movie:  The Village\n",
      "your movie is downloading!\n",
      "https://txdie.vido.cx/hls/wcbzbhtbmkrz4fib4rpuknapshfigqwbxb53b4iiv42mdq2sm7ofbnsbkcua/index-v1-a1.m3u8\n",
      "Le Nid du Tigre\n",
      "movie:  The Tiger's Nest\n",
      "your movie is downloading!\n",
      "https://txdie.vido.cx/hls/wcbzbitbmkrz4fib4rpuk5yszb5g4volxgy3qxfgko4vfsadypouy7ez43nq/index-v1-a1.m3u8\n",
      "Interdit aux chiens et aux Italiens\n",
      "movie:  Interdit aux chiens et aux Italiens\n",
      "your movie is downloading!\n",
      "https://txdie.vido.cx/hls/wcbzaw3bmkrz4fib4rpukzq6yoyg7ixtjzgaeqeb3xiwciiveck3c7wrzgtq/index-v1-a1.m3u8\n",
      "Demon Slayer : Le train de l'infini\n",
      "movie:  Demon Slayer the Movie: Mugen Train\n",
      "Message: \n",
      "Stacktrace:\n",
      "Backtrace:\n",
      "\tGetHandleVerifier [0x011BA813+48355]\n",
      "\t(No symbol) [0x0114C4B1]\n",
      "\t(No symbol) [0x01055358]\n",
      "\t(No symbol) [0x010809A5]\n",
      "\t(No symbol) [0x01080B3B]\n",
      "\t(No symbol) [0x010AE232]\n",
      "\t(No symbol) [0x0109A784]\n",
      "\t(No symbol) [0x010AC922]\n",
      "\t(No symbol) [0x0109A536]\n",
      "\t(No symbol) [0x010782DC]\n",
      "\t(No symbol) [0x010793DD]\n",
      "\tGetHandleVerifier [0x0141AABD+2539405]\n",
      "\tGetHandleVerifier [0x0145A78F+2800735]\n",
      "\tGetHandleVerifier [0x0145456C+2775612]\n",
      "\tGetHandleVerifier [0x012451E0+616112]\n",
      "\t(No symbol) [0x01155F8C]\n",
      "\t(No symbol) [0x01152328]\n",
      "\t(No symbol) [0x0115240B]\n",
      "\t(No symbol) [0x01144FF7]\n",
      "\tBaseThreadInitThunk [0x75430099+25]\n",
      "\tRtlGetAppContainerNamedObjectPath [0x77407B6E+286]\n",
      "\tRtlGetAppContainerNamedObjectPath [0x77407B3E+238]\n",
      "\n",
      "not downloaded!\n",
      "https://txdie.vido.cx/hls/wcbzjetamkrz4fib4rpukpi62wax44xvoadykglxr6se7mlk2kno3724s6za/index-v1-a1.m3u8\n",
      "Juste Ciel !\n",
      "movie:  Juste ciel!\n",
      "your movie is downloading!\n"
     ]
    }
   ],
   "source": [
    "chrome_options = Options()\n",
    "chrome_options.add_argument('load-extension='+ r'C:\\Users\\hp\\AppData\\Local\\Google\\Chrome\\User Data\\Default\\Extensions\\inncfpkneoefpgnoggjhcnkjhbcdeimo\\8.3.1_0')\n",
    "#chrome_options.add_argument('load-extension='+ r'C:\\Users\\hp\\AppData\\Local\\Google\\Chrome\\User Data\\Default\\Extensions\\bkkbcggnhapdmkeljlodobbkopceiche\\6.4.0_0')\n",
    "#chrome_options.add_argument('load-extension=' + r'C:\\Users\\hp\\AppData\\Local\\Google\\Chrome\\User Data\\Default\\Extensions\\gighmmpiobklfepjocnamgkkbiglidom\\5.7.0_0')\n",
    "driver = webdriver.Chrome(options=chrome_options)\n",
    "\n",
    "# create an instance of the IMDb class\n",
    "ia = imdb.IMDb()\n",
    "\n",
    "#print(movies[0],\" : \",\"tt\"+movies[0].movieID)\n",
    "\n",
    "sleep(10)\n",
    "notdownl=[]\n",
    "\n",
    "for file in m3u8_links:\n",
    "    title=file[0]\n",
    "    file_link=file[1]\n",
    "    \n",
    "    print(file_link)\n",
    "    print(title)\n",
    "    driver.get(\"https://9xbuddy.com/\")\n",
    "    sleep(3)\n",
    "    #try:\n",
    "    enter=driver.find_element(By.XPATH,'//*[@id=\"root\"]/section/section[1]/div/div/div/div/input')\n",
    "    enter.send_keys(file_link)\n",
    "\n",
    "\n",
    "    button=driver.find_element(By.XPATH,'//*[@id=\"root\"]/section/section[1]/div[2]/button')\n",
    "    button.click()\n",
    "    '''\n",
    "    sleep(50)\n",
    "    close_popup=driver.find_element(By.CSS_SELECTOR,\"body > div > div > div > div._1t0xB\")\n",
    "    close_popup.click()\n",
    "    '''\n",
    "    sleep(5)\n",
    "    try:\n",
    "        #options=driver.find_element(By.XPATH,'//*[@id=\"root\"]/section/section[3]/section[1]/button')\n",
    "        options = WebDriverWait(driver, 10).until(EC.element_to_be_clickable((By.XPATH,\n",
    "                                        '//*[@id=\"root\"]/section/section[3]/section[1]/button')))\n",
    "        driver.execute_script(\"arguments[0].click();\", options)\n",
    "\n",
    "        #options.click()\n",
    "        \n",
    "    except (NoSuchElementException,TimeoutException) as e:\n",
    "        print(e)\n",
    "        print(\"not downloaded!\")\n",
    "        notdownl.append([title,file_link])\n",
    "        continue\n",
    "        \n",
    "        \n",
    "    sleep(3)\n",
    "    \n",
    "    set_title=driver.find_element(By.XPATH,'//*[@id=\"input_name\"]')\n",
    "    sleep(1)\n",
    "    set_title.clear()\n",
    "    sleep(1)\n",
    "    \n",
    "    movie = ia.search_movie(title)\n",
    "    print(\"movie: \",movie[0]['title'])\n",
    "    \n",
    "    sleep(3)\n",
    "    set_title.send_keys(\"tt\"+movie[0].movieID)\n",
    "    \n",
    "    sleep(2)\n",
    "    download=driver.find_element(By.XPATH,'//*[@id=\"root\"]/section/section[3]/section[2]/div[2]/div[2]/div[2]/a')\n",
    "    sleep(1)\n",
    "    driver.execute_script(\"arguments[0].click();\", download)\n",
    "    try:\n",
    "        WebDriverWait(driver, 10).until(EC.visibility_of_element_located((By.XPATH,\n",
    "                                '//*[@id=\"root\"]/section/section[3]/main/div')))                 \n",
    "                                                                  \n",
    "        #driver.find_element(By.XPATH,'//*[@id=\"root\"]/section/section[3]/main/div')\n",
    "        print(\"your movie is downloading!\")\n",
    "    except (NoSuchElementException,TimeoutException) as e:\n",
    "        print(e)                                                         \n",
    "        print(\"not downloaded!\")\n",
    "        notdownl.append([title,file_link])\n",
    "        continue\n",
    "        \n",
    "    driver.execute_script(\"window.open('');\")\n",
    "    sleep(2)\n",
    "    driver.switch_to.window(driver.window_handles[1])\n",
    "    #driver.quit()\n",
    "    #except :\n",
    "    #  print(\"error!\")\n",
    "     #   continue\n",
    "        \n",
    "        \n",
    "        "
   ]
  },
  {
   "cell_type": "code",
   "execution_count": 27,
   "id": "33c6bb7c",
   "metadata": {},
   "outputs": [
    {
     "data": {
      "text/plain": [
       "3"
      ]
     },
     "execution_count": 27,
     "metadata": {},
     "output_type": "execute_result"
    }
   ],
   "source": [
    "len(notdownl)"
   ]
  },
  {
   "cell_type": "code",
   "execution_count": null,
   "id": "c19c7034",
   "metadata": {},
   "outputs": [],
   "source": [
    "\n",
    "if __name__ == '__main__':\n",
    "    # 1. Download videos from uri.\n",
    "    m3u8_To_MP4.multithread_download('https://txdie.vido.cx/hls/wcbzbitbmkrz4fib4rpuk5yszb5g4volxgy3qxfgko4vfsadypouy7ez43nq/index-v1-a1.m3u8',\n",
    "                                        mp4_file_dir='./title',mp4_file_name='tt1247483',)"
   ]
  },
  {
   "cell_type": "code",
   "execution_count": null,
   "id": "2191698d",
   "metadata": {},
   "outputs": [],
   "source": []
  },
  {
   "cell_type": "code",
   "execution_count": null,
   "id": "5b3d469a",
   "metadata": {},
   "outputs": [],
   "source": []
  },
  {
   "cell_type": "code",
   "execution_count": null,
   "id": "c08b7e14",
   "metadata": {},
   "outputs": [],
   "source": []
  },
  {
   "cell_type": "code",
   "execution_count": null,
   "id": "657f65c2",
   "metadata": {},
   "outputs": [],
   "source": []
  },
  {
   "cell_type": "code",
   "execution_count": null,
   "id": "96d578f7",
   "metadata": {},
   "outputs": [],
   "source": []
  },
  {
   "cell_type": "code",
   "execution_count": null,
   "id": "16cddf3e",
   "metadata": {},
   "outputs": [],
   "source": []
  },
  {
   "cell_type": "code",
   "execution_count": null,
   "id": "ca1b1b63",
   "metadata": {},
   "outputs": [],
   "source": []
  },
  {
   "cell_type": "code",
   "execution_count": null,
   "id": "a1876e87",
   "metadata": {},
   "outputs": [],
   "source": []
  },
  {
   "cell_type": "code",
   "execution_count": null,
   "id": "2d2f993f",
   "metadata": {},
   "outputs": [],
   "source": []
  },
  {
   "cell_type": "code",
   "execution_count": null,
   "id": "c6f4e598",
   "metadata": {},
   "outputs": [],
   "source": []
  },
  {
   "cell_type": "code",
   "execution_count": null,
   "id": "9665e670",
   "metadata": {},
   "outputs": [],
   "source": []
  },
  {
   "cell_type": "markdown",
   "id": "bd1638b2",
   "metadata": {},
   "source": [
    " "
   ]
  },
  {
   "cell_type": "code",
   "execution_count": 46,
   "id": "e9d79e38",
   "metadata": {},
   "outputs": [
    {
     "name": "stdout",
     "output_type": "stream",
     "text": [
      "Interdit aux chiens et aux Italiens  :  tt12826598\n"
     ]
    }
   ],
   "source": []
  },
  {
   "cell_type": "code",
   "execution_count": null,
   "id": "dda003c9",
   "metadata": {},
   "outputs": [],
   "source": []
  },
  {
   "cell_type": "code",
   "execution_count": null,
   "id": "272537a2",
   "metadata": {},
   "outputs": [],
   "source": []
  },
  {
   "cell_type": "code",
   "execution_count": null,
   "id": "d0245318",
   "metadata": {},
   "outputs": [],
   "source": []
  },
  {
   "cell_type": "code",
   "execution_count": null,
   "id": "292ad224",
   "metadata": {},
   "outputs": [],
   "source": []
  },
  {
   "cell_type": "code",
   "execution_count": null,
   "id": "eaf9715d",
   "metadata": {},
   "outputs": [],
   "source": []
  },
  {
   "cell_type": "code",
   "execution_count": null,
   "id": "8d085546",
   "metadata": {},
   "outputs": [],
   "source": []
  },
  {
   "cell_type": "code",
   "execution_count": null,
   "id": "f2d967fa",
   "metadata": {},
   "outputs": [],
   "source": []
  },
  {
   "cell_type": "code",
   "execution_count": null,
   "id": "851371a2",
   "metadata": {},
   "outputs": [],
   "source": []
  },
  {
   "cell_type": "code",
   "execution_count": null,
   "id": "3c1c4823",
   "metadata": {},
   "outputs": [],
   "source": []
  },
  {
   "cell_type": "code",
   "execution_count": 34,
   "id": "f4dc7240",
   "metadata": {},
   "outputs": [
    {
     "name": "stderr",
     "output_type": "stream",
     "text": [
      "The version of chrome cannot be detected. Trying with latest driver version\n"
     ]
    }
   ],
   "source": []
  },
  {
   "cell_type": "code",
   "execution_count": 4,
   "id": "2d832ddd",
   "metadata": {},
   "outputs": [
    {
     "data": {
      "text/plain": [
       "CompletedProcess(args=['C:\\\\Program Files (x86)\\\\Internet Download Manager\\\\idman.exe', '/d', 'https://txdie.vido.cx/hls/wcbzbitbmkrz4fib4rpuk5yszb5g4volxgy3qxfgko4vfsadypouy7ez43nq/index-v1-a1.m3u8', '/f', 'film12.mp4', '/n'], returncode=0)"
      ]
     },
     "execution_count": 4,
     "metadata": {},
     "output_type": "execute_result"
    }
   ],
   "source": []
  },
  {
   "cell_type": "code",
   "execution_count": null,
   "id": "aa0a416b",
   "metadata": {},
   "outputs": [],
   "source": [
    "#!pip install idm "
   ]
  },
  {
   "cell_type": "code",
   "execution_count": 6,
   "id": "10a081ef",
   "metadata": {
    "scrolled": true
   },
   "outputs": [],
   "source": []
  },
  {
   "cell_type": "code",
   "execution_count": 20,
   "id": "164c5ed6",
   "metadata": {},
   "outputs": [
    {
     "name": "stdout",
     "output_type": "stream",
     "text": [
      "Title: Just a moment...\n",
      "Links:\n"
     ]
    }
   ],
   "source": []
  },
  {
   "cell_type": "code",
   "execution_count": 8,
   "id": "9b8a58f7",
   "metadata": {},
   "outputs": [],
   "source": []
  },
  {
   "cell_type": "code",
   "execution_count": null,
   "id": "4d429310",
   "metadata": {},
   "outputs": [],
   "source": []
  },
  {
   "cell_type": "code",
   "execution_count": null,
   "id": "a0a189f2",
   "metadata": {},
   "outputs": [],
   "source": []
  },
  {
   "cell_type": "code",
   "execution_count": null,
   "id": "531ebdad",
   "metadata": {},
   "outputs": [],
   "source": []
  },
  {
   "cell_type": "code",
   "execution_count": null,
   "id": "9198debb",
   "metadata": {},
   "outputs": [],
   "source": [
    "\n",
    "            "
   ]
  },
  {
   "cell_type": "code",
   "execution_count": null,
   "id": "f92b820c",
   "metadata": {
    "scrolled": true
   },
   "outputs": [],
   "source": []
  },
  {
   "cell_type": "code",
   "execution_count": null,
   "id": "25de6f29",
   "metadata": {},
   "outputs": [],
   "source": []
  },
  {
   "cell_type": "code",
   "execution_count": null,
   "id": "1da6a620",
   "metadata": {},
   "outputs": [],
   "source": []
  },
  {
   "cell_type": "code",
   "execution_count": null,
   "id": "611498d9",
   "metadata": {},
   "outputs": [],
   "source": []
  },
  {
   "cell_type": "code",
   "execution_count": null,
   "id": "2eab7cbc",
   "metadata": {},
   "outputs": [],
   "source": []
  },
  {
   "cell_type": "code",
   "execution_count": null,
   "id": "6e43c6d0",
   "metadata": {},
   "outputs": [],
   "source": []
  }
 ],
 "metadata": {
  "kernelspec": {
   "display_name": "Python 3 (ipykernel)",
   "language": "python",
   "name": "python3"
  },
  "language_info": {
   "codemirror_mode": {
    "name": "ipython",
    "version": 3
   },
   "file_extension": ".py",
   "mimetype": "text/x-python",
   "name": "python",
   "nbconvert_exporter": "python",
   "pygments_lexer": "ipython3",
   "version": "3.9.13"
  }
 },
 "nbformat": 4,
 "nbformat_minor": 5
}
