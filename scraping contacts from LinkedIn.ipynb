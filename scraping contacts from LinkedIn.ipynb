{
 "cells": [
  {
   "cell_type": "markdown",
   "id": "0f13f28c",
   "metadata": {},
   "source": [
    "# <center> Web Scraping\n"
   ]
  },
  {
   "cell_type": "markdown",
   "id": "21ecaaa4",
   "metadata": {},
   "source": [
    "# <center>  Extracting contacts from LinkedIn \n",
    "    "
   ]
  },
  {
   "cell_type": "markdown",
   "id": "3f4d3252",
   "metadata": {},
   "source": [
    "## Import Libraries"
   ]
  },
  {
   "cell_type": "code",
   "execution_count": 8,
   "id": "c664e0e4",
   "metadata": {},
   "outputs": [
    {
     "name": "stdout",
     "output_type": "stream",
     "text": [
      "Collecting webdriver_manager\n",
      "  Downloading webdriver_manager-4.0.1-py2.py3-none-any.whl (27 kB)\n",
      "Requirement already satisfied: packaging in c:\\users\\hp\\anaconda3\\lib\\site-packages (from webdriver_manager) (21.3)\n",
      "Collecting python-dotenv\n",
      "  Downloading python_dotenv-1.0.1-py3-none-any.whl (19 kB)\n",
      "Requirement already satisfied: requests in c:\\users\\hp\\anaconda3\\lib\\site-packages (from webdriver_manager) (2.28.1)\n",
      "Requirement already satisfied: pyparsing!=3.0.5,>=2.0.2 in c:\\users\\hp\\anaconda3\\lib\\site-packages (from packaging->webdriver_manager) (3.0.9)\n",
      "Requirement already satisfied: certifi>=2017.4.17 in c:\\users\\hp\\anaconda3\\lib\\site-packages (from requests->webdriver_manager) (2022.9.14)\n",
      "Requirement already satisfied: idna<4,>=2.5 in c:\\users\\hp\\anaconda3\\lib\\site-packages (from requests->webdriver_manager) (3.3)\n",
      "Requirement already satisfied: charset-normalizer<3,>=2 in c:\\users\\hp\\anaconda3\\lib\\site-packages (from requests->webdriver_manager) (2.0.4)\n",
      "Requirement already satisfied: urllib3<1.27,>=1.21.1 in c:\\users\\hp\\anaconda3\\lib\\site-packages (from requests->webdriver_manager) (1.26.11)\n",
      "Installing collected packages: python-dotenv, webdriver_manager\n",
      "Successfully installed python-dotenv-1.0.1 webdriver_manager-4.0.1\n"
     ]
    }
   ],
   "source": [
    "!pip install webdriver_manager"
   ]
  },
  {
   "cell_type": "code",
   "execution_count": 1,
   "id": "1f94134f",
   "metadata": {},
   "outputs": [],
   "source": [
    "from bs4 import BeautifulSoup\n",
    "import requests\n",
    "import lxml\n",
    "import selenium\n",
    "from selenium import webdriver\n",
    "from webdriver_manager.chrome import ChromeDriverManager\n",
    "from time  import sleep\n",
    "from selenium.webdriver.common.by import By\n",
    "import numpy as np\n",
    "import pandas as pd \n",
    "import time"
   ]
  },
  {
   "cell_type": "code",
   "execution_count": null,
   "id": "203ea91e",
   "metadata": {},
   "outputs": [],
   "source": [
    "driver = webdriver.Chrome()\n",
    "#driver.get(\"https://www.linkedin.com/home\")\n"
   ]
  },
  {
   "cell_type": "markdown",
   "id": "0b9813e3",
   "metadata": {},
   "source": [
    "### crate a function to extract contacts from LinkedIn "
   ]
  },
  {
   "cell_type": "code",
   "execution_count": null,
   "id": "9b03c677",
   "metadata": {},
   "outputs": [],
   "source": [
    "\n",
    "def LinkedIn_contacts(email,password,number_of_contacts):\n",
    "    #creat 3 empty Lists:\n",
    "    first_name=[]\n",
    "    last_name=[]\n",
    "    phone_number=[]\n",
    "    # defining driver and get the LinkedIn homepage:\n",
    "    driver = webdriver.Chrome(ChromeDriverManager().install())\n",
    "    driver.get(\"https://www.linkedin.com/home\")\n",
    "    sleep(2)\n",
    "    #sending Email:\n",
    "    username=driver.find_element(by=\"id\",value=\"session_key\").send_keys(str(email))\n",
    "    sleep(1)\n",
    "    #sending Password:\n",
    "    password=driver.find_element(by=\"id\",value=\"session_password\").send_keys(str(password))\n",
    "    sleep(5)\n",
    "    # Singing In:\n",
    "    sign=driver.find_element(by=\"xpath\",\n",
    "                        value=\"/html/body/main/section[1]/div/div/form[1]/div[2]/button\").click()\n",
    "    sleep(30)\n",
    "    # Clicking on network button:\n",
    "    network=driver.find_element(by=\"xpath\" ,\n",
    "                            value='/html/body/div[5]/header/div/nav/ul/li[2]/a')\n",
    "    network.click()\n",
    "    sleep(5)\n",
    "    # Showing the list of contacts by clicking on contact button: \n",
    "    contact_list=driver.find_element(By.XPATH,\n",
    "        \"/html/body/div[5]/div[3]/div/div/div/div/div[2]/div/div/div/div/div/div/section[1]/div/div[2]/a\")\n",
    "    contact_list.click()\n",
    "    sleep(5)\n",
    "    for i in np.arange(1,number_of_contacts+1):\n",
    "        try:\n",
    "\n",
    "            start_time=time.time()\n",
    "            print(i)\n",
    "            sleep(3)\n",
    "            # get contact infos\n",
    "            contact=driver.find_element(By.XPATH,\n",
    "             f'/html/body/div[5]/div[3]/div/div/div/div/div/div/div[2]/div/div/main/div/div/div/div[1]/ul/li[{i}]')\n",
    "            sleep(2)\n",
    "            contact.click()\n",
    "            sleep(4)\n",
    "            # get contact name\n",
    "            name=driver.find_element(By.XPATH,\n",
    "                            \"/html/body/div[3]/div/div/div[2]/div/div[2]/div[1]/p\")\n",
    "            first_name.append(name.text)\n",
    "            sleep(1)\n",
    "            # get contact phone number and last name\n",
    "            phone_or_lastname=driver.find_element(By.XPATH,\n",
    "                                \"/html/body/div[3]/div/div/div[2]/div/div[2]/div[2]/p\").text\n",
    "            int_phone=phone_or_lastname.replace(\"-\",\"\").replace(\"+\",\"\").replace(\" \",\"\")\n",
    "            if int_phone.isdigit():\n",
    "                phone=phone_or_lastname\n",
    "                phone_number.append(phone)\n",
    "                last_name.append(np.nan)\n",
    "\n",
    "            else :\n",
    "                lastname=phone_or_lastname\n",
    "                last_name.append(lastname)\n",
    "                phone=driver.find_element(By.XPATH,\n",
    "                    \"/html/body/div[3]/div/div/div[2]/div/div[2]/div[3]/p\").text \n",
    "                phone_number.append(phone)\n",
    "            sleep(2)\n",
    "            driver.find_element(By.XPATH,\"/html/body/div[3]/div/div/button\").click()\n",
    "            sleep(2)\n",
    "            end_time=time.time()\n",
    "            elapsed_time = end_time - start_time\n",
    "\n",
    "            print(f\"Elapsed time: {elapsed_time:.2f} seconds\")\n",
    "        except :\n",
    "            print(\"can't find this element!\")\n",
    "            continue\n",
    "    # stored data in Dataframe than in a csv file:\n",
    "    contact_df=pd.DataFrame({\"First_Name\":first_name,\n",
    "                             \"Last_Name\":last_name,\n",
    "                             \"Phone_Number\":phone_number})\n",
    "    return contact_df.to_csv(\"linkdIn_contacts.csv\")\n",
    "\n"
   ]
  },
  {
   "cell_type": "code",
   "execution_count": null,
   "id": "d0ef8f3c",
   "metadata": {},
   "outputs": [],
   "source": [
    "LinkedIn_contacts(\"example@gmail.com\",\"*******\",600)"
   ]
  },
  {
   "cell_type": "code",
   "execution_count": null,
   "id": "5adae4c5",
   "metadata": {},
   "outputs": [],
   "source": []
  }
 ],
 "metadata": {
  "kernelspec": {
   "display_name": "Python 3 (ipykernel)",
   "language": "python",
   "name": "python3"
  },
  "language_info": {
   "codemirror_mode": {
    "name": "ipython",
    "version": 3
   },
   "file_extension": ".py",
   "mimetype": "text/x-python",
   "name": "python",
   "nbconvert_exporter": "python",
   "pygments_lexer": "ipython3",
   "version": "3.9.13"
  }
 },
 "nbformat": 4,
 "nbformat_minor": 5
}
